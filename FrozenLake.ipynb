{
  "nbformat": 4,
  "nbformat_minor": 0,
  "metadata": {
    "colab": {
      "name": "FrozenLake.ipynb",
      "provenance": []
    },
    "kernelspec": {
      "name": "python3",
      "display_name": "Python 3"
    }
  },
  "cells": [
    {
      "cell_type": "code",
      "metadata": {
        "id": "rNbEjVanTAV7"
      },
      "source": [
        "import gym\n",
        "import random\n",
        "import numpy as np\n",
        "import time\n",
        "from gym.envs.registration import register"
      ],
      "execution_count": 18,
      "outputs": []
    },
    {
      "cell_type": "code",
      "metadata": {
        "id": "RfOoHaMPTH4M",
        "outputId": "9baf3949-5ab4-4365-c06d-00675026d6c8",
        "colab": {
          "base_uri": "https://localhost:8080/"
        }
      },
      "source": [
        "try:\n",
        "    register(\n",
        "    id='FrozenLakeNoSlip-v0',\n",
        "    entry_point='gym.envs.toy_text:FrozenLakeEnv',\n",
        "    kwargs={'map_name' : '4x4','is_slippery':False},\n",
        "    max_episode_steps=100,\n",
        "    reward_threshold=0.78, # optimum = .8196\n",
        ")\n",
        "except:\n",
        "  pass\n",
        "\n",
        "env_name = \"FrozenLakeNoSlip-v0\"\n",
        "env = gym.make(env_name)\n",
        "print(\"observation space:\",env.observation_space)\n",
        "print(\"Action space\", env.action_space)\n",
        "type(env.action_space)"
      ],
      "execution_count": 8,
      "outputs": [
        {
          "output_type": "stream",
          "text": [
            "observation space: Discrete(16)\n",
            "Action space Discrete(4)\n"
          ],
          "name": "stdout"
        },
        {
          "output_type": "execute_result",
          "data": {
            "text/plain": [
              "gym.spaces.discrete.Discrete"
            ]
          },
          "metadata": {
            "tags": []
          },
          "execution_count": 8
        }
      ]
    },
    {
      "cell_type": "code",
      "metadata": {
        "id": "NsLILKwpTz0t"
      },
      "source": [
        "class Agent():\n",
        "  def __init__(self,env):\n",
        "    self.is_discrete = \\\n",
        "        type(env.action_space) == gym.spaces.discrete.Discrete\n",
        "\n",
        "    if self.is_discrete:\n",
        "      self.action_size = env.action_space.n\n",
        "      print(\"Action size:\", self.action_size)\n",
        "    else:\n",
        "      self.action_low = env.action_space.low\n",
        "      self.action_high = env.action_space.high\n",
        "      self.action_shape = env.action_space.shape\n",
        "      pring(\"Action range:\", self.action_low, self.action_high)\n",
        "\n",
        "  def get_action(self, state):\n",
        "    if self.is_discrete:\n",
        "      action = random.choice(range(self.action_size))\n",
        "    else:\n",
        "      action = np.random.uniform(self.action_low,\n",
        "                                 self.action_high,\n",
        "                                 self.action_shape)\n",
        "    return action\n",
        "      \n",
        "\n"
      ],
      "execution_count": 14,
      "outputs": []
    },
    {
      "cell_type": "code",
      "metadata": {
        "id": "YHz9rAyFXVzi",
        "outputId": "5ca99617-2ab1-42e4-f15d-b001f3c06c54",
        "colab": {
          "base_uri": "https://localhost:8080/"
        }
      },
      "source": [
        "agent = Agent(env)\n",
        "state = env.reset()\n",
        "\n",
        "done = False\n",
        "while not done:\n",
        "  # action = env.action_space.sample()\n",
        "  action = agent.get_action(state)\n",
        "  state, reward, done, info = env.step(action)\n",
        "  print(\"s:\", state, \"a:\", action)\n",
        "  env.render()\n",
        "  time.sleep(0.5)"
      ],
      "execution_count": 19,
      "outputs": [
        {
          "output_type": "stream",
          "text": [
            "Action size: 4\n",
            "s: 0 a: 3\n",
            "  (Up)\n",
            "\u001b[41mS\u001b[0mFFF\n",
            "FHFH\n",
            "FFFH\n",
            "HFFG\n",
            "s: 1 a: 2\n",
            "  (Right)\n",
            "S\u001b[41mF\u001b[0mFF\n",
            "FHFH\n",
            "FFFH\n",
            "HFFG\n",
            "s: 2 a: 2\n",
            "  (Right)\n",
            "SF\u001b[41mF\u001b[0mF\n",
            "FHFH\n",
            "FFFH\n",
            "HFFG\n",
            "s: 3 a: 2\n",
            "  (Right)\n",
            "SFF\u001b[41mF\u001b[0m\n",
            "FHFH\n",
            "FFFH\n",
            "HFFG\n",
            "s: 2 a: 0\n",
            "  (Left)\n",
            "SF\u001b[41mF\u001b[0mF\n",
            "FHFH\n",
            "FFFH\n",
            "HFFG\n",
            "s: 2 a: 3\n",
            "  (Up)\n",
            "SF\u001b[41mF\u001b[0mF\n",
            "FHFH\n",
            "FFFH\n",
            "HFFG\n",
            "s: 1 a: 0\n",
            "  (Left)\n",
            "S\u001b[41mF\u001b[0mFF\n",
            "FHFH\n",
            "FFFH\n",
            "HFFG\n",
            "s: 2 a: 2\n",
            "  (Right)\n",
            "SF\u001b[41mF\u001b[0mF\n",
            "FHFH\n",
            "FFFH\n",
            "HFFG\n",
            "s: 1 a: 0\n",
            "  (Left)\n",
            "S\u001b[41mF\u001b[0mFF\n",
            "FHFH\n",
            "FFFH\n",
            "HFFG\n",
            "s: 5 a: 1\n",
            "  (Down)\n",
            "SFFF\n",
            "F\u001b[41mH\u001b[0mFH\n",
            "FFFH\n",
            "HFFG\n"
          ],
          "name": "stdout"
        }
      ]
    }
  ]
}